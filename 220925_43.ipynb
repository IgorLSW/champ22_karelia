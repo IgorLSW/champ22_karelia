{
 "cells": [
  {
   "cell_type": "markdown",
   "metadata": {},
   "source": [
    "# Прогнозирование оттока пользователей провайдера телекоммуникационных услуг\n",
    "\n",
    "## Республика Карелия. Региональный чемпионат\n",
    "\n",
    "### 5 — 30 сентября 2022"
   ]
  },
  {
   "cell_type": "markdown",
   "metadata": {},
   "source": [
    "## Задача"
   ]
  },
  {
   "cell_type": "markdown",
   "metadata": {},
   "source": [
    "### Условие задачи\n",
    "\n",
    "Участникам чемпионата предстоит создать свое решение по прогнозированию оттока с использованием данных о клиентах. В вашем\n",
    "доступе находится информация о запросах пользователей к сайтам конкурентов и история обращений в компанию.\n",
    "\n",
    "### Описание входных значений\n",
    "\n",
    "    train.csv — файл содержащий данные пользователей для тренировки. Где:\n",
    "        ○ 1 - клиент ушел,\n",
    "        ○ 0 - остался.\n",
    "    log.csv — содержит данные обращения пользователей.;\n",
    "    named.csv — лог днс-запросов к доменам конкурентов (rt.ru и sampo.ru).\n",
    "    type contract.csv - тип списания у пользователей, где:\n",
    "        ○ 1 - посуточная,\n",
    "        ○ 0 - помесячная.\n",
    "    submission.csv — пример файла для отправки.\n",
    "\n",
    "### Метрика\n",
    "В качестве метрики выступает Recall по столбцу blocked."
   ]
  },
  {
   "cell_type": "code",
   "execution_count": null,
   "metadata": {},
   "outputs": [],
   "source": []
  },
  {
   "cell_type": "markdown",
   "metadata": {
    "id": "FH0ZYdNyQzug"
   },
   "source": [
    "## Загрузка библиотек и данных"
   ]
  },
  {
   "cell_type": "code",
   "execution_count": 1,
   "metadata": {
    "id": "BwNGqMidQiRi"
   },
   "outputs": [],
   "source": [
    "import pandas as pd\n",
    "import seaborn as sns\n",
    "import matplotlib.pyplot as plt\n",
    "from sklearn.model_selection import train_test_split\n",
    "from sklearn.ensemble import RandomForestClassifier\n",
    "import numpy as np\n",
    "\n",
    "%matplotlib inline"
   ]
  },
  {
   "cell_type": "code",
   "execution_count": 2,
   "metadata": {
    "id": "3TZUcuZ33rM5"
   },
   "outputs": [],
   "source": [
    "# df_train = pd.read_csv(\"/content/train.csv\")\n",
    "# df_sample_solution = pd.read_csv(\"/content/sample_solution.csv\")\n",
    "\n",
    "# df_named = pd.read_csv(\"/content/named.csv\")\n",
    "# df_type_contract = pd.read_csv(\"/content/type_contract.csv\")\n",
    "# df_log = pd.read_csv(\"/content/log.csv\")\n",
    "\n",
    "df_train = pd.read_csv(\"train.csv\")\n",
    "df_sample_solution = pd.read_csv(\"sample_solution_00.csv\")\n",
    "\n",
    "df_named = pd.read_csv(\"named.csv\")\n",
    "df_type_contract = pd.read_csv(\"type_contract.csv\")\n",
    "df_log = pd.read_csv(\"log.csv\")"
   ]
  },
  {
   "cell_type": "code",
   "execution_count": null,
   "metadata": {},
   "outputs": [],
   "source": []
  },
  {
   "cell_type": "code",
   "execution_count": 3,
   "metadata": {},
   "outputs": [],
   "source": [
    "# EDA\n",
    "\n",
    "def eda(df):\n",
    "    \"\"\" функция выводит основные характеристики датафрейма \"\"\"\n",
    "    print(df.head())\n",
    "    print('\\n info()')\n",
    "    print(df.info())\n",
    "    print('\\n describe()')\n",
    "    print(df.describe())\n",
    "    print('\\n nunique()')\n",
    "    print(df.nunique())"
   ]
  },
  {
   "cell_type": "code",
   "execution_count": null,
   "metadata": {},
   "outputs": [],
   "source": []
  },
  {
   "cell_type": "code",
   "execution_count": 4,
   "metadata": {},
   "outputs": [],
   "source": [
    "# котегории\n",
    "\n",
    "from pandas.api.types import is_numeric_dtype\n",
    "def get_categorical_indicies(X):\n",
    "    \"\"\" функция принимает фрейм данных и возвращает индексы всех нечисловых столбцов в виде списка \"\"\"\n",
    "    cats = []\n",
    "    for col in X.columns:\n",
    "        if is_numeric_dtype(X[col]):\n",
    "            pass\n",
    "        else:\n",
    "            cats.append(col)\n",
    "    cat_indicies = []\n",
    "    for col in cats:\n",
    "        cat_indicies.append(X.columns.get_loc(col))\n",
    "    return cat_indicies"
   ]
  },
  {
   "cell_type": "code",
   "execution_count": null,
   "metadata": {},
   "outputs": [],
   "source": []
  },
  {
   "cell_type": "code",
   "execution_count": 5,
   "metadata": {},
   "outputs": [],
   "source": [
    "# Балансировка\n",
    "\n",
    "def balans_01(df, field, plot = 0):\n",
    "    \"\"\" функция принимает датафрейм df и возвращает датафрейм сбалансированный\n",
    "    по минимальному значению поля field (значения 0/1) \n",
    "    Пример вызова df_train = balans_01(df_train,'blocked', plot = 1)\"\"\"\n",
    "    df_0 = df[df[field]==0]    \n",
    "    df_1 = df[df[field]==1]\n",
    "    if len(df_0) < len(df_1):\n",
    "        df_1 = df_1.sample(n=len(df_0), random_state=101)\n",
    "    else:\n",
    "        df_0 = df_0.sample(n=len(df_1), random_state=101)\n",
    "    df = pd.concat([df_0,df_1],axis=0)\n",
    "    \n",
    "    if plot == 1:\n",
    "        plt.pie(df[field].value_counts(), labels=[0, 1], colors=['wheat', 'chocolate'], explode=[0.1, 0.1], shadow=True)\n",
    "        print(df.value_counts(field));\n",
    "    \n",
    "    return df"
   ]
  },
  {
   "cell_type": "code",
   "execution_count": null,
   "metadata": {},
   "outputs": [],
   "source": []
  },
  {
   "cell_type": "code",
   "execution_count": null,
   "metadata": {},
   "outputs": [],
   "source": []
  },
  {
   "cell_type": "markdown",
   "metadata": {},
   "source": [
    "## Исследование данных"
   ]
  },
  {
   "cell_type": "markdown",
   "metadata": {},
   "source": [
    "### df_train"
   ]
  },
  {
   "cell_type": "code",
   "execution_count": 6,
   "metadata": {},
   "outputs": [
    {
     "name": "stdout",
     "output_type": "stream",
     "text": [
      "   contract_id  blocked\n",
      "0         7780        0\n",
      "1         7785        0\n",
      "2         7794        0\n",
      "3         7795        0\n",
      "4         7798        0\n",
      "\n",
      " info()\n",
      "<class 'pandas.core.frame.DataFrame'>\n",
      "RangeIndex: 5992 entries, 0 to 5991\n",
      "Data columns (total 2 columns):\n",
      " #   Column       Non-Null Count  Dtype\n",
      "---  ------       --------------  -----\n",
      " 0   contract_id  5992 non-null   int64\n",
      " 1   blocked      5992 non-null   int64\n",
      "dtypes: int64(2)\n",
      "memory usage: 93.8 KB\n",
      "None\n",
      "\n",
      " describe()\n",
      "         contract_id      blocked\n",
      "count    5992.000000  5992.000000\n",
      "mean    48867.505507     0.116489\n",
      "std     49409.034843     0.320837\n",
      "min      7780.000000     0.000000\n",
      "25%     14988.500000     0.000000\n",
      "50%     43939.500000     0.000000\n",
      "75%     51186.750000     0.000000\n",
      "max    274918.000000     1.000000\n",
      "\n",
      " nunique()\n",
      "contract_id    5992\n",
      "blocked           2\n",
      "dtype: int64\n"
     ]
    }
   ],
   "source": [
    "eda(df_train)"
   ]
  },
  {
   "cell_type": "code",
   "execution_count": 7,
   "metadata": {},
   "outputs": [
    {
     "data": {
      "text/plain": [
       "0    5294\n",
       "1     698\n",
       "Name: blocked, dtype: int64"
      ]
     },
     "execution_count": 7,
     "metadata": {},
     "output_type": "execute_result"
    }
   ],
   "source": [
    "df_train['blocked'].value_counts()"
   ]
  },
  {
   "cell_type": "code",
   "execution_count": 8,
   "metadata": {},
   "outputs": [
    {
     "name": "stdout",
     "output_type": "stream",
     "text": [
      "blocked\n",
      "0    5294\n",
      "1     698\n",
      "dtype: int64\n"
     ]
    },
    {
     "data": {
      "image/png": "[encoded data removed]",
      "text/plain": [
       "<Figure size 432x288 with 1 Axes>"
      ]
     },
     "metadata": {},
     "output_type": "display_data"
    }
   ],
   "source": [
    "plt.pie(df_train['blocked'].value_counts(), labels=[0, 1], colors=['wheat', 'chocolate'], explode=[0.1, 0.1], shadow=True)\n",
    "print(df_train.value_counts('blocked'));"
   ]
  },
  {
   "cell_type": "code",
   "execution_count": 9,
   "metadata": {},
   "outputs": [
    {
     "data": {
      "text/plain": [
       "array([[<AxesSubplot:title={'center':'contract_id'}>,\n",
       "        <AxesSubplot:title={'center':'blocked'}>]], dtype=object)"
      ]
     },
     "execution_count": 9,
     "metadata": {},
     "output_type": "execute_result"
    },
    {
     "data": {
      "image/png": "[encoded data removed]",
      "text/plain": [
       "<Figure size 1080x216 with 2 Axes>"
      ]
     },
     "metadata": {
      "needs_background": "light"
     },
     "output_type": "display_data"
    }
   ],
   "source": [
    "df_num = df_train.select_dtypes(include=['int8', 'int16','int32', 'int64'])\n",
    "#df_num = df_train.select_dtypes(include=['float32','float64'])\n",
    "df_num.hist(figsize=(15,3), bins=25, grid=True)"
   ]
  },
  {
   "cell_type": "code",
   "execution_count": null,
   "metadata": {},
   "outputs": [],
   "source": []
  },
  {
   "cell_type": "markdown",
   "metadata": {},
   "source": [
    "### df_named"
   ]
  },
  {
   "cell_type": "code",
   "execution_count": 10,
   "metadata": {},
   "outputs": [
    {
     "name": "stdout",
     "output_type": "stream",
     "text": [
      "          date                      url  contract_id\n",
      "0  17-Apr-2021         webmail.sampo.ru       101397\n",
      "1  17-Apr-2021         webmail.sampo.ru       179624\n",
      "2  17-Apr-2021  tvip-provision.sampo.ru       190335\n",
      "3  17-Apr-2021  tvip-provision.sampo.ru        61670\n",
      "4  17-Apr-2021  tvip-provision.sampo.ru        39370\n",
      "\n",
      " info()\n",
      "<class 'pandas.core.frame.DataFrame'>\n",
      "RangeIndex: 10646537 entries, 0 to 10646536\n",
      "Data columns (total 3 columns):\n",
      " #   Column       Dtype \n",
      "---  ------       ----- \n",
      " 0   date         object\n",
      " 1   url          object\n",
      " 2   contract_id  int64 \n",
      "dtypes: int64(1), object(2)\n",
      "memory usage: 243.7+ MB\n",
      "None\n",
      "\n",
      " describe()\n",
      "        contract_id\n",
      "count  1.064654e+07\n",
      "mean   1.093602e+05\n",
      "std    5.722937e+04\n",
      "min    3.455000e+03\n",
      "25%    6.082400e+04\n",
      "50%    1.098210e+05\n",
      "75%    1.588340e+05\n",
      "max    2.747860e+05\n",
      "\n",
      " nunique()\n",
      "date               36\n",
      "url              6583\n",
      "contract_id    196148\n",
      "dtype: int64\n"
     ]
    }
   ],
   "source": [
    "eda(df_named)"
   ]
  },
  {
   "cell_type": "code",
   "execution_count": 11,
   "metadata": {},
   "outputs": [
    {
     "data": {
      "text/plain": [
       "camera.rt.ru                                         7333195\n",
       "vmxott.svc.iptv.rt.ru                                 289876\n",
       "tvip-provision.sampo.ru                               138944\n",
       "webmail.sampo.ru                                      132718\n",
       "statserv.sampo.ru                                     110428\n",
       "                                                      ...   \n",
       "_bittorrent-tracker._tcp.ip94-143-246-20.sampo.ru          1\n",
       "_bittorrent-tracker._tcp.ip212-109-29-44.sampo.ru          1\n",
       "jcyzowodsk.sampo.ru                                        1\n",
       "dhmisszt.sampo.ru                                          1\n",
       "broadband-90-154-70-112.ip.moscow.rt.ru                    1\n",
       "Name: url, Length: 6583, dtype: int64"
      ]
     },
     "execution_count": 11,
     "metadata": {},
     "output_type": "execute_result"
    }
   ],
   "source": [
    "df_named['url'].value_counts()"
   ]
  },
  {
   "cell_type": "code",
   "execution_count": 12,
   "metadata": {},
   "outputs": [
    {
     "data": {
      "text/html": [
       "<div>\n",
       "<style scoped>\n",
       "    .dataframe tbody tr th:only-of-type {\n",
       "        vertical-align: middle;\n",
       "    }\n",
       "\n",
       "    .dataframe tbody tr th {\n",
       "        vertical-align: top;\n",
       "    }\n",
       "\n",
       "    .dataframe thead th {\n",
       "        text-align: right;\n",
       "    }\n",
       "</style>\n",
       "<table border=\"1\" class=\"dataframe\">\n",
       "  <thead>\n",
       "    <tr style=\"text-align: right;\">\n",
       "      <th></th>\n",
       "      <th>date</th>\n",
       "      <th>url</th>\n",
       "      <th>contract_id</th>\n",
       "    </tr>\n",
       "  </thead>\n",
       "  <tbody>\n",
       "    <tr>\n",
       "      <th>109</th>\n",
       "      <td>17-Apr-2021</td>\n",
       "      <td>swap.sampo.ru</td>\n",
       "      <td>3677</td>\n",
       "    </tr>\n",
       "    <tr>\n",
       "      <th>124</th>\n",
       "      <td>17-Apr-2021</td>\n",
       "      <td>www.sampo.ru</td>\n",
       "      <td>3845</td>\n",
       "    </tr>\n",
       "    <tr>\n",
       "      <th>125</th>\n",
       "      <td>17-Apr-2021</td>\n",
       "      <td>www.sampo.ru</td>\n",
       "      <td>3845</td>\n",
       "    </tr>\n",
       "    <tr>\n",
       "      <th>211</th>\n",
       "      <td>17-Apr-2021</td>\n",
       "      <td>swap.sampo.ru</td>\n",
       "      <td>3677</td>\n",
       "    </tr>\n",
       "    <tr>\n",
       "      <th>422</th>\n",
       "      <td>17-Apr-2021</td>\n",
       "      <td>swap.sampo.ru</td>\n",
       "      <td>3677</td>\n",
       "    </tr>\n",
       "    <tr>\n",
       "      <th>...</th>\n",
       "      <td>...</td>\n",
       "      <td>...</td>\n",
       "      <td>...</td>\n",
       "    </tr>\n",
       "    <tr>\n",
       "      <th>10640925</th>\n",
       "      <td>31-Mar-2021</td>\n",
       "      <td>fnc.rt.ru</td>\n",
       "      <td>4148</td>\n",
       "    </tr>\n",
       "    <tr>\n",
       "      <th>10643113</th>\n",
       "      <td>31-Mar-2021</td>\n",
       "      <td>isatap.sz.rt.ru</td>\n",
       "      <td>3998</td>\n",
       "    </tr>\n",
       "    <tr>\n",
       "      <th>10643151</th>\n",
       "      <td>31-Mar-2021</td>\n",
       "      <td>isatap.sz.rt.ru</td>\n",
       "      <td>3998</td>\n",
       "    </tr>\n",
       "    <tr>\n",
       "      <th>10643191</th>\n",
       "      <td>31-Mar-2021</td>\n",
       "      <td>isatap.sz.rt.ru</td>\n",
       "      <td>3998</td>\n",
       "    </tr>\n",
       "    <tr>\n",
       "      <th>10643252</th>\n",
       "      <td>31-Mar-2021</td>\n",
       "      <td>isatap.sz.rt.ru</td>\n",
       "      <td>3998</td>\n",
       "    </tr>\n",
       "  </tbody>\n",
       "</table>\n",
       "<p>15172 rows × 3 columns</p>\n",
       "</div>"
      ],
      "text/plain": [
       "                 date              url  contract_id\n",
       "109       17-Apr-2021    swap.sampo.ru         3677\n",
       "124       17-Apr-2021     www.sampo.ru         3845\n",
       "125       17-Apr-2021     www.sampo.ru         3845\n",
       "211       17-Apr-2021    swap.sampo.ru         3677\n",
       "422       17-Apr-2021    swap.sampo.ru         3677\n",
       "...               ...              ...          ...\n",
       "10640925  31-Mar-2021        fnc.rt.ru         4148\n",
       "10643113  31-Mar-2021  isatap.sz.rt.ru         3998\n",
       "10643151  31-Mar-2021  isatap.sz.rt.ru         3998\n",
       "10643191  31-Mar-2021  isatap.sz.rt.ru         3998\n",
       "10643252  31-Mar-2021  isatap.sz.rt.ru         3998\n",
       "\n",
       "[15172 rows x 3 columns]"
      ]
     },
     "execution_count": 12,
     "metadata": {},
     "output_type": "execute_result"
    }
   ],
   "source": [
    "df_named[(df_named['contract_id'] >= 3453) & (df_named['contract_id'] <= 4262)] "
   ]
  },
  {
   "cell_type": "code",
   "execution_count": 13,
   "metadata": {},
   "outputs": [
    {
     "data": {
      "text/plain": [
       "390"
      ]
     },
     "execution_count": 13,
     "metadata": {},
     "output_type": "execute_result"
    }
   ],
   "source": [
    "len(df_named[(df_named['contract_id'] >= 3453) & (df_named['contract_id'] <= 4262)]['contract_id'].unique())"
   ]
  },
  {
   "cell_type": "code",
   "execution_count": 14,
   "metadata": {},
   "outputs": [
    {
     "data": {
      "text/plain": [
       "195"
      ]
     },
     "execution_count": 14,
     "metadata": {},
     "output_type": "execute_result"
    }
   ],
   "source": [
    "len(df_named[(df_named['contract_id'] >= 3453) & (df_named['contract_id'] <= 4262)]['url'].unique())"
   ]
  },
  {
   "cell_type": "code",
   "execution_count": null,
   "metadata": {},
   "outputs": [],
   "source": []
  },
  {
   "cell_type": "markdown",
   "metadata": {},
   "source": [
    "### df_type_contract"
   ]
  },
  {
   "cell_type": "code",
   "execution_count": 15,
   "metadata": {},
   "outputs": [
    {
     "name": "stdout",
     "output_type": "stream",
     "text": [
      "   contract_id  day_or_month_contract\n",
      "0         7780                      0\n",
      "1         3996                      0\n",
      "2         7785                      0\n",
      "3         7794                      0\n",
      "4         7795                      1\n",
      "\n",
      " info()\n",
      "<class 'pandas.core.frame.DataFrame'>\n",
      "RangeIndex: 6805 entries, 0 to 6804\n",
      "Data columns (total 2 columns):\n",
      " #   Column                 Non-Null Count  Dtype\n",
      "---  ------                 --------------  -----\n",
      " 0   contract_id            6805 non-null   int64\n",
      " 1   day_or_month_contract  6805 non-null   int64\n",
      "dtypes: int64(2)\n",
      "memory usage: 106.5 KB\n",
      "None\n",
      "\n",
      " describe()\n",
      "         contract_id  day_or_month_contract\n",
      "count    6805.000000            6805.000000\n",
      "mean    43493.714328               0.408964\n",
      "std     48606.505607               0.491679\n",
      "min      3453.000000               0.000000\n",
      "25%     11474.000000               0.000000\n",
      "50%     38499.000000               0.000000\n",
      "75%     50495.000000               1.000000\n",
      "max    274918.000000               1.000000\n",
      "\n",
      " nunique()\n",
      "contract_id              6800\n",
      "day_or_month_contract       2\n",
      "dtype: int64\n"
     ]
    }
   ],
   "source": [
    "eda(df_type_contract)"
   ]
  },
  {
   "cell_type": "code",
   "execution_count": 16,
   "metadata": {},
   "outputs": [
    {
     "data": {
      "text/plain": [
       "array([[<AxesSubplot:title={'center':'contract_id'}>,\n",
       "        <AxesSubplot:title={'center':'day_or_month_contract'}>]],\n",
       "      dtype=object)"
      ]
     },
     "execution_count": 16,
     "metadata": {},
     "output_type": "execute_result"
    },
    {
     "data": {
      "image/png": "[encoded data removed]",
      "text/plain": [
       "<Figure size 1080x216 with 2 Axes>"
      ]
     },
     "metadata": {
      "needs_background": "light"
     },
     "output_type": "display_data"
    }
   ],
   "source": [
    "df_num = df_type_contract.select_dtypes(include=['int8', 'int16','int32', 'int64'])\n",
    "df_num.hist(figsize=(15,3), bins=25, grid=True)"
   ]
  },
  {
   "cell_type": "code",
   "execution_count": null,
   "metadata": {},
   "outputs": [],
   "source": []
  },
  {
   "cell_type": "markdown",
   "metadata": {},
   "source": [
    "### df_log"
   ]
  },
  {
   "cell_type": "code",
   "execution_count": 17,
   "metadata": {},
   "outputs": [
    {
     "name": "stdout",
     "output_type": "stream",
     "text": [
      "   contract_id           event_date                            event_type\n",
      "0        36294  2021-03-28 16:24:30     Добавление в Обращались с номеров\n",
      "1        36294  2021-03-28 16:27:41  Обращение в службу заботы о клиентах\n",
      "2        36294  2021-03-28 16:29:56                Выключение IPTV-пакета\n",
      "3        36294  2021-03-28 16:29:56                 Включение IPTV-пакета\n",
      "4        36294  2021-03-28 16:35:04  Обращение в службу заботы о клиентах\n",
      "\n",
      " info()\n",
      "<class 'pandas.core.frame.DataFrame'>\n",
      "RangeIndex: 25274 entries, 0 to 25273\n",
      "Data columns (total 3 columns):\n",
      " #   Column       Non-Null Count  Dtype \n",
      "---  ------       --------------  ----- \n",
      " 0   contract_id  25274 non-null  int64 \n",
      " 1   event_date   25274 non-null  object\n",
      " 2   event_type   25274 non-null  object\n",
      "dtypes: int64(1), object(2)\n",
      "memory usage: 592.5+ KB\n",
      "None\n",
      "\n",
      " describe()\n",
      "         contract_id\n",
      "count   25274.000000\n",
      "mean    50371.763314\n",
      "std     55449.936583\n",
      "min      3453.000000\n",
      "25%     12158.500000\n",
      "50%     43957.000000\n",
      "75%     52039.000000\n",
      "max    274918.000000\n",
      "\n",
      " nunique()\n",
      "contract_id     4311\n",
      "event_date     24906\n",
      "event_type       105\n",
      "dtype: int64\n"
     ]
    }
   ],
   "source": [
    "eda(df_log)"
   ]
  },
  {
   "cell_type": "code",
   "execution_count": 18,
   "metadata": {},
   "outputs": [
    {
     "data": {
      "text/plain": [
       "array(['Добавление в Обращались с номеров',\n",
       "       'Обращение в службу заботы о клиентах', 'Выключение IPTV-пакета',\n",
       "       'Включение IPTV-пакета', 'Отключение услуги Аренда ТВ-приставки',\n",
       "       'Оборудование', 'Изменение истории', 'Продление действия тарифа',\n",
       "       'Предложение IPTV', 'Активация точки подключения на сутки',\n",
       "       'Смена тарифа', 'Удаление из Обращались с номеров', 'Смена пароля',\n",
       "       'Предложение ТВ', 'Внутреннее сообщение', 'Операция с mac-адресом',\n",
       "       'Закрепление сообщения', 'Перенос денежных средств',\n",
       "       'Изменение данных клиента', 'Возвращение клиента',\n",
       "       'Уведомления: подключение', 'Уведомления: подтверждение',\n",
       "       'Состояние клиентского оборудования', 'Смена схемы оплаты',\n",
       "       'Включена 20% скидка', 'Включение услуги Аренда ТВ-приставки',\n",
       "       'Отключение скидки 20%', 'Предложение тарифа',\n",
       "       'Активация гарантированного платежа',\n",
       "       'Включение интернета на 20 минут',\n",
       "       'Изменение контактных телефонов', 'Внесение', 'Смена IP-адреса',\n",
       "       'Блокировка', 'Реестр договоров', 'Смена следующего тарифа',\n",
       "       'Предложение ТВ-пакета', 'Предложение автоплатежа',\n",
       "       'Активация ГП с IVR', 'Включение Бесплатной аренды',\n",
       "       'Замена оборудования', 'Удаление телефона из записи',\n",
       "       'Без границ бесплатно. Включение', 'Отключение скидки',\n",
       "       'Включена 30% скидка',\n",
       "       'Активация автоматического гарантированного платежа',\n",
       "       'Отключение услуги Автоплатёж', 'Расторжение',\n",
       "       'Отмена гарантированного платежа', 'Манипуляции с оборудованием',\n",
       "       'Включена 10% скидка', 'Блокировка лицевого счета',\n",
       "       'Включение блокировки лицевого счета',\n",
       "       'Чек лист выполненных работ при регистрации', 'Разблокировка',\n",
       "       'Добавление IP-адреса', 'Удаление ip-адреса',\n",
       "       'Предложение расширенной гарантии на ТВ приставку',\n",
       "       'Без границ бесплатно. Отключение', 'Уведомления: отключение',\n",
       "       'Отключение скидки 10%', 'Окончание рассрочки за подключение',\n",
       "       'Предложение доп.гарантии на роутер', 'Предложение роутера',\n",
       "       'Тайный покупатель', 'Возвращение гарантированного платежа',\n",
       "       'Включение старых условий аренды', 'Информер ВК. Показ',\n",
       "       'Показ информатора об изменении уведомлений через ВК платформу',\n",
       "       'Гарантированный платеж за деньги',\n",
       "       'Просмотр раздела Тайный покупатель',\n",
       "       'Включение интернета на 20 минут с IVR',\n",
       "       'Турбокнопка платно (1 час)',\n",
       "       'Включение автоматической активации ГП', 'Информер ВК. Закрытие',\n",
       "       'Виртуальное бессмертие. Включение',\n",
       "       'Виртуальное бессмертие. Использование',\n",
       "       'Принято заявление и доп. соглашение по переезду',\n",
       "       'Абонент оставил отзыв в Личном кабинете',\n",
       "       'Получение подарка в ЛК: сутки интернета на максимальной скорости',\n",
       "       'Получение подарка в ЛК: 1 месяц бесплатного просмотра IPTV',\n",
       "       'Включение ограничения функций ТВ',\n",
       "       'Без границ платно. Отключение', 'Турбокнопка платно (1 сутки)',\n",
       "       'Турбокнопка бесплатно', 'Без границ платно. Включение',\n",
       "       'Виртуальное бессмертие. Отключение',\n",
       "       'Тайный покупатель. Отправлена анкета', 'Бонус-скорость',\n",
       "       'Отключение  ограничения функций ТВ',\n",
       "       'Изменение пакета HD. Закрытие лендинг-информера',\n",
       "       'Родительский контроль. Включение',\n",
       "       'Отключение управления услугами по паролю',\n",
       "       'Родительский контроль. Выключение', 'Восстановление пароля',\n",
       "       'Становление участником бонусной программы',\n",
       "       'Изменение схемы оплаты', 'Футболка Ситилинк',\n",
       "       'Отключение автоматической активации ГП',\n",
       "       'Закрытие информатора об изменении уведомлений через ВК платформу',\n",
       "       'Включение управления услугами по паролю',\n",
       "       'Общий счет. Отсоединение реципиента',\n",
       "       'Общий счет. Отсоединение от донора',\n",
       "       'Подписка на ivi. Включение триала',\n",
       "       'Подписка на ivi. Отключение автопродления подписки'], dtype=object)"
      ]
     },
     "execution_count": 18,
     "metadata": {},
     "output_type": "execute_result"
    }
   ],
   "source": [
    "df_log['event_type'].unique()"
   ]
  },
  {
   "cell_type": "code",
   "execution_count": 19,
   "metadata": {},
   "outputs": [
    {
     "data": {
      "text/plain": [
       "event_type\n",
       "Информер ВК. Показ                                                  8001\n",
       "Включение интернета на 20 минут                                     4092\n",
       "Обращение в службу заботы о клиентах                                2860\n",
       "Гарантированный платеж за деньги                                    2679\n",
       "Виртуальное бессмертие. Использование                                757\n",
       "Турбокнопка бесплатно                                                546\n",
       "Включение интернета на 20 минут с IVR                                343\n",
       "Смена тарифа                                                         335\n",
       "Состояние клиентского оборудования                                   311\n",
       "Смена пароля                                                         283\n",
       "Оборудование                                                         276\n",
       "Изменение истории                                                    220\n",
       "Показ информатора об изменении уведомлений через ВК платформу        219\n",
       "Предложение ТВ                                                       217\n",
       "Добавление в Обращались с номеров                                    211\n",
       "Внутреннее сообщение                                                 210\n",
       "Включение IPTV-пакета                                                192\n",
       "Предложение тарифа                                                   186\n",
       "Просмотр раздела Тайный покупатель                                   183\n",
       "Операция с mac-адресом                                               170\n",
       "Включение автоматической активации ГП                                163\n",
       "Изменение данных клиента                                             126\n",
       "Реестр договоров                                                     126\n",
       "Отключение услуги Аренда ТВ-приставки                                123\n",
       "Получение подарка в ЛК: сутки интернета на максимальной скорости     119\n",
       "Получение подарка в ЛК: 1 месяц бесплатного просмотра IPTV           117\n",
       "Активация гарантированного платежа                                   101\n",
       "Выключение IPTV-пакета                                                95\n",
       "Предложение IPTV                                                      95\n",
       "Турбокнопка платно (1 час)                                            94\n",
       "dtype: int64"
      ]
     },
     "execution_count": 19,
     "metadata": {},
     "output_type": "execute_result"
    }
   ],
   "source": [
    "df_log.value_counts('event_type').head(30)"
   ]
  },
  {
   "cell_type": "code",
   "execution_count": 20,
   "metadata": {},
   "outputs": [
    {
     "data": {
      "text/html": [
       "<div>\n",
       "<style scoped>\n",
       "    .dataframe tbody tr th:only-of-type {\n",
       "        vertical-align: middle;\n",
       "    }\n",
       "\n",
       "    .dataframe tbody tr th {\n",
       "        vertical-align: top;\n",
       "    }\n",
       "\n",
       "    .dataframe thead th {\n",
       "        text-align: right;\n",
       "    }\n",
       "</style>\n",
       "<table border=\"1\" class=\"dataframe\">\n",
       "  <thead>\n",
       "    <tr style=\"text-align: right;\">\n",
       "      <th></th>\n",
       "      <th>contract_id</th>\n",
       "      <th>event_date</th>\n",
       "      <th>event_type</th>\n",
       "    </tr>\n",
       "  </thead>\n",
       "  <tbody>\n",
       "    <tr>\n",
       "      <th>1419</th>\n",
       "      <td>3639</td>\n",
       "      <td>2021-03-01 12:23:20</td>\n",
       "      <td>Активация гарантированного платежа</td>\n",
       "    </tr>\n",
       "    <tr>\n",
       "      <th>1420</th>\n",
       "      <td>3639</td>\n",
       "      <td>2021-03-01 12:23:28</td>\n",
       "      <td>Обращение в службу заботы о клиентах</td>\n",
       "    </tr>\n",
       "    <tr>\n",
       "      <th>1421</th>\n",
       "      <td>3639</td>\n",
       "      <td>2021-04-15 21:25:20</td>\n",
       "      <td>Реестр договоров</td>\n",
       "    </tr>\n",
       "    <tr>\n",
       "      <th>1422</th>\n",
       "      <td>3571</td>\n",
       "      <td>2021-03-15 09:53:54</td>\n",
       "      <td>Добавление в Обращались с номеров</td>\n",
       "    </tr>\n",
       "    <tr>\n",
       "      <th>1423</th>\n",
       "      <td>3571</td>\n",
       "      <td>2021-03-15 09:54:05</td>\n",
       "      <td>Обращение в службу заботы о клиентах</td>\n",
       "    </tr>\n",
       "    <tr>\n",
       "      <th>...</th>\n",
       "      <td>...</td>\n",
       "      <td>...</td>\n",
       "      <td>...</td>\n",
       "    </tr>\n",
       "    <tr>\n",
       "      <th>11141</th>\n",
       "      <td>4025</td>\n",
       "      <td>2021-03-30 02:37:59</td>\n",
       "      <td>Бонус-скорость</td>\n",
       "    </tr>\n",
       "    <tr>\n",
       "      <th>11142</th>\n",
       "      <td>4025</td>\n",
       "      <td>2021-04-16 16:20:02</td>\n",
       "      <td>Информер ВК. Показ</td>\n",
       "    </tr>\n",
       "    <tr>\n",
       "      <th>11143</th>\n",
       "      <td>4025</td>\n",
       "      <td>2021-04-16 16:20:09</td>\n",
       "      <td>Бонус-скорость</td>\n",
       "    </tr>\n",
       "    <tr>\n",
       "      <th>11144</th>\n",
       "      <td>4025</td>\n",
       "      <td>2021-04-29 19:33:28</td>\n",
       "      <td>Информер ВК. Показ</td>\n",
       "    </tr>\n",
       "    <tr>\n",
       "      <th>11145</th>\n",
       "      <td>4025</td>\n",
       "      <td>2021-04-29 19:33:32</td>\n",
       "      <td>Бонус-скорость</td>\n",
       "    </tr>\n",
       "  </tbody>\n",
       "</table>\n",
       "<p>3037 rows × 3 columns</p>\n",
       "</div>"
      ],
      "text/plain": [
       "       contract_id           event_date                            event_type\n",
       "1419          3639  2021-03-01 12:23:20    Активация гарантированного платежа\n",
       "1420          3639  2021-03-01 12:23:28  Обращение в службу заботы о клиентах\n",
       "1421          3639  2021-04-15 21:25:20                      Реестр договоров\n",
       "1422          3571  2021-03-15 09:53:54     Добавление в Обращались с номеров\n",
       "1423          3571  2021-03-15 09:54:05  Обращение в службу заботы о клиентах\n",
       "...            ...                  ...                                   ...\n",
       "11141         4025  2021-03-30 02:37:59                        Бонус-скорость\n",
       "11142         4025  2021-04-16 16:20:02                    Информер ВК. Показ\n",
       "11143         4025  2021-04-16 16:20:09                        Бонус-скорость\n",
       "11144         4025  2021-04-29 19:33:28                    Информер ВК. Показ\n",
       "11145         4025  2021-04-29 19:33:32                        Бонус-скорость\n",
       "\n",
       "[3037 rows x 3 columns]"
      ]
     },
     "execution_count": 20,
     "metadata": {},
     "output_type": "execute_result"
    }
   ],
   "source": [
    "df_log[(df_log['contract_id'] >= 3453) & (df_log['contract_id'] <= 4262)] "
   ]
  },
  {
   "cell_type": "code",
   "execution_count": 21,
   "metadata": {},
   "outputs": [
    {
     "data": {
      "text/plain": [
       "502"
      ]
     },
     "execution_count": 21,
     "metadata": {},
     "output_type": "execute_result"
    }
   ],
   "source": [
    "len(df_log[(df_log['contract_id'] >= 3453) & (df_log['contract_id'] <= 4262)]['contract_id'].unique())"
   ]
  },
  {
   "cell_type": "code",
   "execution_count": null,
   "metadata": {},
   "outputs": [],
   "source": []
  },
  {
   "cell_type": "markdown",
   "metadata": {},
   "source": [
    "### df_sample_solution"
   ]
  },
  {
   "cell_type": "code",
   "execution_count": 22,
   "metadata": {},
   "outputs": [
    {
     "name": "stdout",
     "output_type": "stream",
     "text": [
      "   contract_id  blocked\n",
      "0         3453        0\n",
      "1         3454        0\n",
      "2         3455        0\n",
      "3         3456        0\n",
      "4         3457        0\n",
      "\n",
      " info()\n",
      "<class 'pandas.core.frame.DataFrame'>\n",
      "RangeIndex: 810 entries, 0 to 809\n",
      "Data columns (total 2 columns):\n",
      " #   Column       Non-Null Count  Dtype\n",
      "---  ------       --------------  -----\n",
      " 0   contract_id  810 non-null    int64\n",
      " 1   blocked      810 non-null    int64\n",
      "dtypes: int64(2)\n",
      "memory usage: 12.8 KB\n",
      "None\n",
      "\n",
      " describe()\n",
      "       contract_id  blocked\n",
      "count   810.000000    810.0\n",
      "mean   3857.500000      0.0\n",
      "std     233.971152      0.0\n",
      "min    3453.000000      0.0\n",
      "25%    3655.250000      0.0\n",
      "50%    3857.500000      0.0\n",
      "75%    4059.750000      0.0\n",
      "max    4262.000000      0.0\n",
      "\n",
      " nunique()\n",
      "contract_id    810\n",
      "blocked          1\n",
      "dtype: int64\n"
     ]
    }
   ],
   "source": [
    "eda(df_sample_solution)"
   ]
  },
  {
   "cell_type": "code",
   "execution_count": null,
   "metadata": {},
   "outputs": [],
   "source": []
  },
  {
   "cell_type": "code",
   "execution_count": 23,
   "metadata": {},
   "outputs": [
    {
     "name": "stdout",
     "output_type": "stream",
     "text": [
      "df_train (5992, 2)\n",
      "df_named (10646537, 3)\n",
      "df_type_contract (6805, 2)\n",
      "df_log (25274, 3)\n",
      "df_sample_solution (810, 2)\n"
     ]
    }
   ],
   "source": [
    "#  размерность наборов\n",
    "print(\"df_train\", df_train.shape)\n",
    "print(\"df_named\", df_named.shape)\n",
    "print(\"df_type_contract\", df_type_contract.shape)\n",
    "print(\"df_log\", df_log.shape)\n",
    "print(\"df_sample_solution\", df_sample_solution.shape)"
   ]
  },
  {
   "cell_type": "code",
   "execution_count": null,
   "metadata": {},
   "outputs": [],
   "source": []
  },
  {
   "cell_type": "code",
   "execution_count": null,
   "metadata": {},
   "outputs": [],
   "source": []
  },
  {
   "cell_type": "markdown",
   "metadata": {},
   "source": [
    "## Подготовка данных"
   ]
  },
  {
   "cell_type": "markdown",
   "metadata": {},
   "source": [
    "### train"
   ]
  },
  {
   "cell_type": "markdown",
   "metadata": {},
   "source": [
    "Используем файлы df_train и df_log"
   ]
  },
  {
   "cell_type": "code",
   "execution_count": 24,
   "metadata": {},
   "outputs": [
    {
     "data": {
      "text/plain": [
       "(7780, 274918)"
      ]
     },
     "execution_count": 24,
     "metadata": {},
     "output_type": "execute_result"
    }
   ],
   "source": [
    "train = df_train.copy()\n",
    "train_id_min = train['contract_id'].min()\n",
    "train_id_max = train['contract_id'].max()\n",
    "train_id_min, train_id_max"
   ]
  },
  {
   "cell_type": "code",
   "execution_count": 25,
   "metadata": {},
   "outputs": [
    {
     "data": {
      "text/html": [
       "<div>\n",
       "<style scoped>\n",
       "    .dataframe tbody tr th:only-of-type {\n",
       "        vertical-align: middle;\n",
       "    }\n",
       "\n",
       "    .dataframe tbody tr th {\n",
       "        vertical-align: top;\n",
       "    }\n",
       "\n",
       "    .dataframe thead th {\n",
       "        text-align: right;\n",
       "    }\n",
       "</style>\n",
       "<table border=\"1\" class=\"dataframe\">\n",
       "  <thead>\n",
       "    <tr style=\"text-align: right;\">\n",
       "      <th></th>\n",
       "      <th>contract_id</th>\n",
       "      <th>event_date</th>\n",
       "      <th>event_type</th>\n",
       "      <th>blocked</th>\n",
       "    </tr>\n",
       "  </thead>\n",
       "  <tbody>\n",
       "    <tr>\n",
       "      <th>0</th>\n",
       "      <td>36294</td>\n",
       "      <td>2021-03-28 16:24:30</td>\n",
       "      <td>Добавление в Обращались с номеров</td>\n",
       "      <td>1.0</td>\n",
       "    </tr>\n",
       "    <tr>\n",
       "      <th>1</th>\n",
       "      <td>36294</td>\n",
       "      <td>2021-03-28 16:27:41</td>\n",
       "      <td>Обращение в службу заботы о клиентах</td>\n",
       "      <td>1.0</td>\n",
       "    </tr>\n",
       "    <tr>\n",
       "      <th>2</th>\n",
       "      <td>36294</td>\n",
       "      <td>2021-03-28 16:29:56</td>\n",
       "      <td>Выключение IPTV-пакета</td>\n",
       "      <td>1.0</td>\n",
       "    </tr>\n",
       "  </tbody>\n",
       "</table>\n",
       "</div>"
      ],
      "text/plain": [
       "   contract_id           event_date                            event_type  \\\n",
       "0        36294  2021-03-28 16:24:30     Добавление в Обращались с номеров   \n",
       "1        36294  2021-03-28 16:27:41  Обращение в службу заботы о клиентах   \n",
       "2        36294  2021-03-28 16:29:56                Выключение IPTV-пакета   \n",
       "\n",
       "   blocked  \n",
       "0      1.0  \n",
       "1      1.0  \n",
       "2      1.0  "
      ]
     },
     "execution_count": 25,
     "metadata": {},
     "output_type": "execute_result"
    }
   ],
   "source": [
    "# Объединение df\n",
    "train = pd.merge(df_log, train, how='left')\n",
    "train.head(3)"
   ]
  },
  {
   "cell_type": "code",
   "execution_count": 26,
   "metadata": {},
   "outputs": [
    {
     "data": {
      "text/html": [
       "<div>\n",
       "<style scoped>\n",
       "    .dataframe tbody tr th:only-of-type {\n",
       "        vertical-align: middle;\n",
       "    }\n",
       "\n",
       "    .dataframe tbody tr th {\n",
       "        vertical-align: top;\n",
       "    }\n",
       "\n",
       "    .dataframe thead th {\n",
       "        text-align: right;\n",
       "    }\n",
       "</style>\n",
       "<table border=\"1\" class=\"dataframe\">\n",
       "  <thead>\n",
       "    <tr style=\"text-align: right;\">\n",
       "      <th></th>\n",
       "      <th>contract_id</th>\n",
       "      <th>event_date</th>\n",
       "      <th>event_type</th>\n",
       "      <th>blocked</th>\n",
       "    </tr>\n",
       "  </thead>\n",
       "  <tbody>\n",
       "    <tr>\n",
       "      <th>9275</th>\n",
       "      <td>3453</td>\n",
       "      <td>2021-03-03 16:18:58</td>\n",
       "      <td>Информер ВК. Показ</td>\n",
       "      <td>NaN</td>\n",
       "    </tr>\n",
       "    <tr>\n",
       "      <th>2248</th>\n",
       "      <td>3454</td>\n",
       "      <td>2021-04-28 11:28:42</td>\n",
       "      <td>Внутреннее сообщение</td>\n",
       "      <td>NaN</td>\n",
       "    </tr>\n",
       "    <tr>\n",
       "      <th>1727</th>\n",
       "      <td>3456</td>\n",
       "      <td>2021-03-21 19:15:50</td>\n",
       "      <td>Состояние клиентского оборудования</td>\n",
       "      <td>NaN</td>\n",
       "    </tr>\n",
       "    <tr>\n",
       "      <th>1728</th>\n",
       "      <td>3456</td>\n",
       "      <td>2021-03-21 19:15:50</td>\n",
       "      <td>Смена тарифа</td>\n",
       "      <td>NaN</td>\n",
       "    </tr>\n",
       "    <tr>\n",
       "      <th>1729</th>\n",
       "      <td>3456</td>\n",
       "      <td>2021-03-21 19:15:50</td>\n",
       "      <td>Внутреннее сообщение</td>\n",
       "      <td>NaN</td>\n",
       "    </tr>\n",
       "    <tr>\n",
       "      <th>...</th>\n",
       "      <td>...</td>\n",
       "      <td>...</td>\n",
       "      <td>...</td>\n",
       "      <td>...</td>\n",
       "    </tr>\n",
       "    <tr>\n",
       "      <th>1414</th>\n",
       "      <td>274786</td>\n",
       "      <td>2021-04-26 10:20:08</td>\n",
       "      <td>Обращение в службу заботы о клиентах</td>\n",
       "      <td>1.0</td>\n",
       "    </tr>\n",
       "    <tr>\n",
       "      <th>1415</th>\n",
       "      <td>274786</td>\n",
       "      <td>2021-04-28 19:26:41</td>\n",
       "      <td>Обращение в службу заботы о клиентах</td>\n",
       "      <td>1.0</td>\n",
       "    </tr>\n",
       "    <tr>\n",
       "      <th>1416</th>\n",
       "      <td>274786</td>\n",
       "      <td>2021-04-28 19:28:51</td>\n",
       "      <td>Обращение в службу заботы о клиентах</td>\n",
       "      <td>1.0</td>\n",
       "    </tr>\n",
       "    <tr>\n",
       "      <th>9146</th>\n",
       "      <td>274786</td>\n",
       "      <td>2021-04-26 10:08:26</td>\n",
       "      <td>Информер ВК. Показ</td>\n",
       "      <td>1.0</td>\n",
       "    </tr>\n",
       "    <tr>\n",
       "      <th>1418</th>\n",
       "      <td>274918</td>\n",
       "      <td>2021-04-15 13:06:10</td>\n",
       "      <td>Реестр договоров</td>\n",
       "      <td>1.0</td>\n",
       "    </tr>\n",
       "  </tbody>\n",
       "</table>\n",
       "<p>25274 rows × 4 columns</p>\n",
       "</div>"
      ],
      "text/plain": [
       "      contract_id           event_date                            event_type  \\\n",
       "9275         3453  2021-03-03 16:18:58                    Информер ВК. Показ   \n",
       "2248         3454  2021-04-28 11:28:42                  Внутреннее сообщение   \n",
       "1727         3456  2021-03-21 19:15:50    Состояние клиентского оборудования   \n",
       "1728         3456  2021-03-21 19:15:50                          Смена тарифа   \n",
       "1729         3456  2021-03-21 19:15:50                  Внутреннее сообщение   \n",
       "...           ...                  ...                                   ...   \n",
       "1414       274786  2021-04-26 10:20:08  Обращение в службу заботы о клиентах   \n",
       "1415       274786  2021-04-28 19:26:41  Обращение в службу заботы о клиентах   \n",
       "1416       274786  2021-04-28 19:28:51  Обращение в службу заботы о клиентах   \n",
       "9146       274786  2021-04-26 10:08:26                    Информер ВК. Показ   \n",
       "1418       274918  2021-04-15 13:06:10                      Реестр договоров   \n",
       "\n",
       "      blocked  \n",
       "9275      NaN  \n",
       "2248      NaN  \n",
       "1727      NaN  \n",
       "1728      NaN  \n",
       "1729      NaN  \n",
       "...       ...  \n",
       "1414      1.0  \n",
       "1415      1.0  \n",
       "1416      1.0  \n",
       "9146      1.0  \n",
       "1418      1.0  \n",
       "\n",
       "[25274 rows x 4 columns]"
      ]
     },
     "execution_count": 26,
     "metadata": {},
     "output_type": "execute_result"
    }
   ],
   "source": [
    "train.sort_values('contract_id', ascending=True)"
   ]
  },
  {
   "cell_type": "code",
   "execution_count": 27,
   "metadata": {},
   "outputs": [
    {
     "data": {
      "text/plain": [
       "contract_id       0\n",
       "event_date        0\n",
       "event_type        0\n",
       "blocked        3037\n",
       "dtype: int64"
      ]
     },
     "execution_count": 27,
     "metadata": {},
     "output_type": "execute_result"
    }
   ],
   "source": [
    "train.isna().sum()"
   ]
  },
  {
   "cell_type": "code",
   "execution_count": 28,
   "metadata": {},
   "outputs": [
    {
     "data": {
      "text/html": [
       "<div>\n",
       "<style scoped>\n",
       "    .dataframe tbody tr th:only-of-type {\n",
       "        vertical-align: middle;\n",
       "    }\n",
       "\n",
       "    .dataframe tbody tr th {\n",
       "        vertical-align: top;\n",
       "    }\n",
       "\n",
       "    .dataframe thead th {\n",
       "        text-align: right;\n",
       "    }\n",
       "</style>\n",
       "<table border=\"1\" class=\"dataframe\">\n",
       "  <thead>\n",
       "    <tr style=\"text-align: right;\">\n",
       "      <th></th>\n",
       "      <th>contract_id</th>\n",
       "      <th>event_date</th>\n",
       "      <th>event_type</th>\n",
       "      <th>blocked</th>\n",
       "    </tr>\n",
       "  </thead>\n",
       "  <tbody>\n",
       "    <tr>\n",
       "      <th>0</th>\n",
       "      <td>36294</td>\n",
       "      <td>2021-03-28 16:24:30</td>\n",
       "      <td>Добавление в Обращались с номеров</td>\n",
       "      <td>1</td>\n",
       "    </tr>\n",
       "    <tr>\n",
       "      <th>1</th>\n",
       "      <td>36294</td>\n",
       "      <td>2021-03-28 16:27:41</td>\n",
       "      <td>Обращение в службу заботы о клиентах</td>\n",
       "      <td>1</td>\n",
       "    </tr>\n",
       "    <tr>\n",
       "      <th>2</th>\n",
       "      <td>36294</td>\n",
       "      <td>2021-03-28 16:29:56</td>\n",
       "      <td>Выключение IPTV-пакета</td>\n",
       "      <td>1</td>\n",
       "    </tr>\n",
       "  </tbody>\n",
       "</table>\n",
       "</div>"
      ],
      "text/plain": [
       "   contract_id           event_date                            event_type  \\\n",
       "0        36294  2021-03-28 16:24:30     Добавление в Обращались с номеров   \n",
       "1        36294  2021-03-28 16:27:41  Обращение в службу заботы о клиентах   \n",
       "2        36294  2021-03-28 16:29:56                Выключение IPTV-пакета   \n",
       "\n",
       "   blocked  \n",
       "0        1  \n",
       "1        1  \n",
       "2        1  "
      ]
     },
     "execution_count": 28,
     "metadata": {},
     "output_type": "execute_result"
    }
   ],
   "source": [
    "# Удаление NaN\n",
    "train = train.dropna()\n",
    "train['blocked'] = train['blocked'].astype(int)\n",
    "train.blocked = train.blocked.astype(int)\n",
    "train.head(3)"
   ]
  },
  {
   "cell_type": "code",
   "execution_count": 29,
   "metadata": {},
   "outputs": [],
   "source": [
    "# Преобразование event_date to_datetime\n",
    "train['date'] = pd.to_datetime(train['event_date'], dayfirst=True)\n",
    "train = train.drop(columns= ['event_date'])\n",
    "train = train.drop(columns= ['date'])"
   ]
  },
  {
   "cell_type": "code",
   "execution_count": null,
   "metadata": {},
   "outputs": [],
   "source": []
  },
  {
   "cell_type": "code",
   "execution_count": 30,
   "metadata": {},
   "outputs": [
    {
     "name": "stdout",
     "output_type": "stream",
     "text": [
      "blocked\n",
      "0    18714\n",
      "1     3523\n",
      "dtype: int64\n"
     ]
    },
    {
     "data": {
      "image/png": "[encoded data removed]",
      "text/plain": [
       "<Figure size 432x288 with 1 Axes>"
      ]
     },
     "metadata": {},
     "output_type": "display_data"
    }
   ],
   "source": [
    "plt.pie(train['blocked'].value_counts(), labels=[0, 1], colors=['wheat', 'chocolate'], explode=[0.1, 0.1], shadow=True)\n",
    "print(train.value_counts('blocked'));"
   ]
  },
  {
   "cell_type": "code",
   "execution_count": 31,
   "metadata": {},
   "outputs": [
    {
     "name": "stdout",
     "output_type": "stream",
     "text": [
      "blocked\n",
      "0    3523\n",
      "1    3523\n",
      "dtype: int64\n"
     ]
    },
    {
     "data": {
      "image/png": "[encoded data removed]",
      "text/plain": [
       "<Figure size 432x288 with 1 Axes>"
      ]
     },
     "metadata": {},
     "output_type": "display_data"
    }
   ],
   "source": [
    "# Балансировка\n",
    "train = balans_01(train,'blocked', plot = 1)"
   ]
  },
  {
   "cell_type": "markdown",
   "metadata": {},
   "source": [
    "#### создание дополнительных признаков"
   ]
  },
  {
   "cell_type": "code",
   "execution_count": 32,
   "metadata": {
    "scrolled": true
   },
   "outputs": [
    {
     "data": {
      "text/html": [
       "<div>\n",
       "<style scoped>\n",
       "    .dataframe tbody tr th:only-of-type {\n",
       "        vertical-align: middle;\n",
       "    }\n",
       "\n",
       "    .dataframe tbody tr th {\n",
       "        vertical-align: top;\n",
       "    }\n",
       "\n",
       "    .dataframe thead tr th {\n",
       "        text-align: left;\n",
       "    }\n",
       "\n",
       "    .dataframe thead tr:last-of-type th {\n",
       "        text-align: right;\n",
       "    }\n",
       "</style>\n",
       "<table border=\"1\" class=\"dataframe\">\n",
       "  <thead>\n",
       "    <tr>\n",
       "      <th></th>\n",
       "      <th colspan=\"2\" halign=\"left\">contract_id</th>\n",
       "    </tr>\n",
       "    <tr>\n",
       "      <th></th>\n",
       "      <th colspan=\"2\" halign=\"left\">count_nonzero</th>\n",
       "    </tr>\n",
       "    <tr>\n",
       "      <th>blocked</th>\n",
       "      <th>0</th>\n",
       "      <th>1</th>\n",
       "    </tr>\n",
       "    <tr>\n",
       "      <th>event_type</th>\n",
       "      <th></th>\n",
       "      <th></th>\n",
       "    </tr>\n",
       "  </thead>\n",
       "  <tbody>\n",
       "    <tr>\n",
       "      <th>Абонент оставил отзыв в Личном кабинете</th>\n",
       "      <td>7</td>\n",
       "      <td>10</td>\n",
       "    </tr>\n",
       "    <tr>\n",
       "      <th>Активация ГП с IVR</th>\n",
       "      <td>12</td>\n",
       "      <td>9</td>\n",
       "    </tr>\n",
       "    <tr>\n",
       "      <th>Активация автоматического гарантированного платежа</th>\n",
       "      <td>1</td>\n",
       "      <td>2</td>\n",
       "    </tr>\n",
       "    <tr>\n",
       "      <th>Активация гарантированного платежа</th>\n",
       "      <td>10</td>\n",
       "      <td>29</td>\n",
       "    </tr>\n",
       "    <tr>\n",
       "      <th>Активация точки подключения на сутки</th>\n",
       "      <td>6</td>\n",
       "      <td>23</td>\n",
       "    </tr>\n",
       "    <tr>\n",
       "      <th>...</th>\n",
       "      <td>...</td>\n",
       "      <td>...</td>\n",
       "    </tr>\n",
       "    <tr>\n",
       "      <th>Уведомления: отключение</th>\n",
       "      <td>2</td>\n",
       "      <td>0</td>\n",
       "    </tr>\n",
       "    <tr>\n",
       "      <th>Уведомления: подключение</th>\n",
       "      <td>2</td>\n",
       "      <td>1</td>\n",
       "    </tr>\n",
       "    <tr>\n",
       "      <th>Уведомления: подтверждение</th>\n",
       "      <td>2</td>\n",
       "      <td>1</td>\n",
       "    </tr>\n",
       "    <tr>\n",
       "      <th>Удаление из Обращались с номеров</th>\n",
       "      <td>7</td>\n",
       "      <td>11</td>\n",
       "    </tr>\n",
       "    <tr>\n",
       "      <th>Удаление телефона из записи</th>\n",
       "      <td>2</td>\n",
       "      <td>4</td>\n",
       "    </tr>\n",
       "  </tbody>\n",
       "</table>\n",
       "<p>85 rows × 2 columns</p>\n",
       "</div>"
      ],
      "text/plain": [
       "                                                     contract_id    \n",
       "                                                   count_nonzero    \n",
       "blocked                                                        0   1\n",
       "event_type                                                          \n",
       "Абонент оставил отзыв в Личном кабинете                        7  10\n",
       "Активация ГП с IVR                                            12   9\n",
       "Активация автоматического гарантированного платежа             1   2\n",
       "Активация гарантированного платежа                            10  29\n",
       "Активация точки подключения на сутки                           6  23\n",
       "...                                                          ...  ..\n",
       "Уведомления: отключение                                        2   0\n",
       "Уведомления: подключение                                       2   1\n",
       "Уведомления: подтверждение                                     2   1\n",
       "Удаление из Обращались с номеров                               7  11\n",
       "Удаление телефона из записи                                    2   4\n",
       "\n",
       "[85 rows x 2 columns]"
      ]
     },
     "execution_count": 32,
     "metadata": {},
     "output_type": "execute_result"
    }
   ],
   "source": [
    "# зависимость blocked от event_type\n",
    "train_pv_ev = pd.pivot_table(train,index=[\"event_type\"],columns=[\"blocked\"],values=[\"blocked\"],\n",
    "               aggfunc={\"contract_id\":[np.count_nonzero]}, fill_value=0)\n",
    "train_pv_ev"
   ]
  },
  {
   "cell_type": "code",
   "execution_count": 33,
   "metadata": {},
   "outputs": [],
   "source": [
    "df_event_type = pd.DataFrame() \n",
    "df_event_type['bl_0'] = train_pv_ev['contract_id']['count_nonzero'][0] #оставшиеся\n",
    "df_event_type['bl_1'] = train_pv_ev['contract_id']['count_nonzero'][1] #ушедшие\n",
    "df_event_type['bl_d'] = 0   #разность\n",
    "df_event_type['bl'] = 0     #признак"
   ]
  },
  {
   "cell_type": "code",
   "execution_count": 34,
   "metadata": {},
   "outputs": [
    {
     "data": {
      "text/html": [
       "<div>\n",
       "<style scoped>\n",
       "    .dataframe tbody tr th:only-of-type {\n",
       "        vertical-align: middle;\n",
       "    }\n",
       "\n",
       "    .dataframe tbody tr th {\n",
       "        vertical-align: top;\n",
       "    }\n",
       "\n",
       "    .dataframe thead th {\n",
       "        text-align: right;\n",
       "    }\n",
       "</style>\n",
       "<table border=\"1\" class=\"dataframe\">\n",
       "  <thead>\n",
       "    <tr style=\"text-align: right;\">\n",
       "      <th></th>\n",
       "      <th>bl_0</th>\n",
       "      <th>bl_1</th>\n",
       "      <th>bl_d</th>\n",
       "      <th>bl</th>\n",
       "    </tr>\n",
       "    <tr>\n",
       "      <th>event_type</th>\n",
       "      <th></th>\n",
       "      <th></th>\n",
       "      <th></th>\n",
       "      <th></th>\n",
       "    </tr>\n",
       "  </thead>\n",
       "  <tbody>\n",
       "    <tr>\n",
       "      <th>Абонент оставил отзыв в Личном кабинете</th>\n",
       "      <td>7</td>\n",
       "      <td>10</td>\n",
       "      <td>3</td>\n",
       "      <td>1</td>\n",
       "    </tr>\n",
       "    <tr>\n",
       "      <th>Активация ГП с IVR</th>\n",
       "      <td>12</td>\n",
       "      <td>9</td>\n",
       "      <td>-3</td>\n",
       "      <td>0</td>\n",
       "    </tr>\n",
       "    <tr>\n",
       "      <th>Активация автоматического гарантированного платежа</th>\n",
       "      <td>1</td>\n",
       "      <td>2</td>\n",
       "      <td>1</td>\n",
       "      <td>1</td>\n",
       "    </tr>\n",
       "    <tr>\n",
       "      <th>Активация гарантированного платежа</th>\n",
       "      <td>10</td>\n",
       "      <td>29</td>\n",
       "      <td>19</td>\n",
       "      <td>1</td>\n",
       "    </tr>\n",
       "    <tr>\n",
       "      <th>Активация точки подключения на сутки</th>\n",
       "      <td>6</td>\n",
       "      <td>23</td>\n",
       "      <td>17</td>\n",
       "      <td>1</td>\n",
       "    </tr>\n",
       "    <tr>\n",
       "      <th>...</th>\n",
       "      <td>...</td>\n",
       "      <td>...</td>\n",
       "      <td>...</td>\n",
       "      <td>...</td>\n",
       "    </tr>\n",
       "    <tr>\n",
       "      <th>Уведомления: отключение</th>\n",
       "      <td>2</td>\n",
       "      <td>0</td>\n",
       "      <td>-2</td>\n",
       "      <td>0</td>\n",
       "    </tr>\n",
       "    <tr>\n",
       "      <th>Уведомления: подключение</th>\n",
       "      <td>2</td>\n",
       "      <td>1</td>\n",
       "      <td>-1</td>\n",
       "      <td>0</td>\n",
       "    </tr>\n",
       "    <tr>\n",
       "      <th>Уведомления: подтверждение</th>\n",
       "      <td>2</td>\n",
       "      <td>1</td>\n",
       "      <td>-1</td>\n",
       "      <td>0</td>\n",
       "    </tr>\n",
       "    <tr>\n",
       "      <th>Удаление из Обращались с номеров</th>\n",
       "      <td>7</td>\n",
       "      <td>11</td>\n",
       "      <td>4</td>\n",
       "      <td>1</td>\n",
       "    </tr>\n",
       "    <tr>\n",
       "      <th>Удаление телефона из записи</th>\n",
       "      <td>2</td>\n",
       "      <td>4</td>\n",
       "      <td>2</td>\n",
       "      <td>1</td>\n",
       "    </tr>\n",
       "  </tbody>\n",
       "</table>\n",
       "<p>85 rows × 4 columns</p>\n",
       "</div>"
      ],
      "text/plain": [
       "                                                    bl_0  bl_1  bl_d  bl\n",
       "event_type                                                              \n",
       "Абонент оставил отзыв в Личном кабинете                7    10     3   1\n",
       "Активация ГП с IVR                                    12     9    -3   0\n",
       "Активация автоматического гарантированного платежа     1     2     1   1\n",
       "Активация гарантированного платежа                    10    29    19   1\n",
       "Активация точки подключения на сутки                   6    23    17   1\n",
       "...                                                  ...   ...   ...  ..\n",
       "Уведомления: отключение                                2     0    -2   0\n",
       "Уведомления: подключение                               2     1    -1   0\n",
       "Уведомления: подтверждение                             2     1    -1   0\n",
       "Удаление из Обращались с номеров                       7    11     4   1\n",
       "Удаление телефона из записи                            2     4     2   1\n",
       "\n",
       "[85 rows x 4 columns]"
      ]
     },
     "execution_count": 34,
     "metadata": {},
     "output_type": "execute_result"
    }
   ],
   "source": [
    "# если большинство сообщений у ушедших клиетов, то признак bl=1\n",
    "for idx,row in df_event_type.iterrows():\n",
    "    row['bl_d'] = row['bl_1'] - row['bl_0']\n",
    "    if row['bl_1'] > row['bl_0']:\n",
    "        row['bl'] = 1\n",
    "df_event_type "
   ]
  },
  {
   "cell_type": "code",
   "execution_count": 35,
   "metadata": {},
   "outputs": [],
   "source": [
    "df_event_type = df_event_type.drop(columns= ['bl_0', 'bl_1', 'bl_d'])\n",
    "#df_event_type"
   ]
  },
  {
   "cell_type": "code",
   "execution_count": 36,
   "metadata": {},
   "outputs": [
    {
     "data": {
      "text/html": [
       "<div>\n",
       "<style scoped>\n",
       "    .dataframe tbody tr th:only-of-type {\n",
       "        vertical-align: middle;\n",
       "    }\n",
       "\n",
       "    .dataframe tbody tr th {\n",
       "        vertical-align: top;\n",
       "    }\n",
       "\n",
       "    .dataframe thead th {\n",
       "        text-align: right;\n",
       "    }\n",
       "</style>\n",
       "<table border=\"1\" class=\"dataframe\">\n",
       "  <thead>\n",
       "    <tr style=\"text-align: right;\">\n",
       "      <th></th>\n",
       "      <th>contract_id</th>\n",
       "      <th>event_type</th>\n",
       "      <th>blocked</th>\n",
       "      <th>bl</th>\n",
       "    </tr>\n",
       "  </thead>\n",
       "  <tbody>\n",
       "    <tr>\n",
       "      <th>0</th>\n",
       "      <td>13525</td>\n",
       "      <td>Информер ВК. Показ</td>\n",
       "      <td>0</td>\n",
       "      <td>0</td>\n",
       "    </tr>\n",
       "    <tr>\n",
       "      <th>1</th>\n",
       "      <td>49824</td>\n",
       "      <td>Состояние клиентского оборудования</td>\n",
       "      <td>0</td>\n",
       "      <td>1</td>\n",
       "    </tr>\n",
       "    <tr>\n",
       "      <th>2</th>\n",
       "      <td>31085</td>\n",
       "      <td>Включение интернета на 20 минут</td>\n",
       "      <td>0</td>\n",
       "      <td>0</td>\n",
       "    </tr>\n",
       "    <tr>\n",
       "      <th>3</th>\n",
       "      <td>49469</td>\n",
       "      <td>Информер ВК. Показ</td>\n",
       "      <td>0</td>\n",
       "      <td>0</td>\n",
       "    </tr>\n",
       "    <tr>\n",
       "      <th>4</th>\n",
       "      <td>52196</td>\n",
       "      <td>Гарантированный платеж за деньги</td>\n",
       "      <td>0</td>\n",
       "      <td>0</td>\n",
       "    </tr>\n",
       "  </tbody>\n",
       "</table>\n",
       "</div>"
      ],
      "text/plain": [
       "   contract_id                          event_type  blocked  bl\n",
       "0        13525                  Информер ВК. Показ        0   0\n",
       "1        49824  Состояние клиентского оборудования        0   1\n",
       "2        31085     Включение интернета на 20 минут        0   0\n",
       "3        49469                  Информер ВК. Показ        0   0\n",
       "4        52196    Гарантированный платеж за деньги        0   0"
      ]
     },
     "execution_count": 36,
     "metadata": {},
     "output_type": "execute_result"
    }
   ],
   "source": [
    "# Объединение df\n",
    "train = pd.merge(train, df_event_type, how='left', left_on='event_type', right_on='event_type')\n",
    "train.head()"
   ]
  },
  {
   "cell_type": "code",
   "execution_count": null,
   "metadata": {},
   "outputs": [],
   "source": []
  },
  {
   "cell_type": "code",
   "execution_count": 37,
   "metadata": {},
   "outputs": [
    {
     "name": "stdout",
     "output_type": "stream",
     "text": [
      "   contract_id                          event_type  blocked  bl\n",
      "0        13525                  Информер ВК. Показ        0   0\n",
      "1        49824  Состояние клиентского оборудования        0   1\n",
      "2        31085     Включение интернета на 20 минут        0   0\n",
      "3        49469                  Информер ВК. Показ        0   0\n",
      "4        52196    Гарантированный платеж за деньги        0   0\n",
      "\n",
      " info()\n",
      "<class 'pandas.core.frame.DataFrame'>\n",
      "Int64Index: 7046 entries, 0 to 7045\n",
      "Data columns (total 4 columns):\n",
      " #   Column       Non-Null Count  Dtype \n",
      "---  ------       --------------  ----- \n",
      " 0   contract_id  7046 non-null   int64 \n",
      " 1   event_type   7046 non-null   object\n",
      " 2   blocked      7046 non-null   int32 \n",
      " 3   bl           7046 non-null   int64 \n",
      "dtypes: int32(1), int64(2), object(1)\n",
      "memory usage: 247.7+ KB\n",
      "None\n",
      "\n",
      " describe()\n",
      "         contract_id      blocked           bl\n",
      "count    7046.000000  7046.000000  7046.000000\n",
      "mean   100405.808970     0.500000     0.386886\n",
      "std     81247.345873     0.500035     0.487072\n",
      "min      7780.000000     0.000000     0.000000\n",
      "25%     41368.000000     0.000000     0.000000\n",
      "50%     53476.000000     0.500000     0.000000\n",
      "75%    157583.750000     1.000000     1.000000\n",
      "max    274918.000000     1.000000     1.000000\n",
      "\n",
      " nunique()\n",
      "contract_id    2319\n",
      "event_type       85\n",
      "blocked           2\n",
      "bl                2\n",
      "dtype: int64\n"
     ]
    }
   ],
   "source": [
    "eda(train)"
   ]
  },
  {
   "cell_type": "code",
   "execution_count": null,
   "metadata": {},
   "outputs": [],
   "source": []
  },
  {
   "cell_type": "code",
   "execution_count": null,
   "metadata": {},
   "outputs": [],
   "source": []
  },
  {
   "cell_type": "markdown",
   "metadata": {},
   "source": [
    "### test"
   ]
  },
  {
   "cell_type": "code",
   "execution_count": 38,
   "metadata": {},
   "outputs": [
    {
     "data": {
      "text/plain": [
       "(3453, 4262)"
      ]
     },
     "execution_count": 38,
     "metadata": {},
     "output_type": "execute_result"
    }
   ],
   "source": [
    "test = df_sample_solution.copy()\n",
    "test_id_min = df_sample_solution['contract_id'].min()\n",
    "test_id_max = df_sample_solution['contract_id'].max()\n",
    "test_id_min, test_id_max"
   ]
  },
  {
   "cell_type": "code",
   "execution_count": 39,
   "metadata": {},
   "outputs": [
    {
     "data": {
      "text/html": [
       "<div>\n",
       "<style scoped>\n",
       "    .dataframe tbody tr th:only-of-type {\n",
       "        vertical-align: middle;\n",
       "    }\n",
       "\n",
       "    .dataframe tbody tr th {\n",
       "        vertical-align: top;\n",
       "    }\n",
       "\n",
       "    .dataframe thead th {\n",
       "        text-align: right;\n",
       "    }\n",
       "</style>\n",
       "<table border=\"1\" class=\"dataframe\">\n",
       "  <thead>\n",
       "    <tr style=\"text-align: right;\">\n",
       "      <th></th>\n",
       "      <th>contract_id</th>\n",
       "      <th>event_date</th>\n",
       "      <th>event_type</th>\n",
       "      <th>blocked</th>\n",
       "    </tr>\n",
       "  </thead>\n",
       "  <tbody>\n",
       "    <tr>\n",
       "      <th>0</th>\n",
       "      <td>36294</td>\n",
       "      <td>2021-03-28 16:24:30</td>\n",
       "      <td>Добавление в Обращались с номеров</td>\n",
       "      <td>NaN</td>\n",
       "    </tr>\n",
       "    <tr>\n",
       "      <th>1</th>\n",
       "      <td>36294</td>\n",
       "      <td>2021-03-28 16:27:41</td>\n",
       "      <td>Обращение в службу заботы о клиентах</td>\n",
       "      <td>NaN</td>\n",
       "    </tr>\n",
       "    <tr>\n",
       "      <th>2</th>\n",
       "      <td>36294</td>\n",
       "      <td>2021-03-28 16:29:56</td>\n",
       "      <td>Выключение IPTV-пакета</td>\n",
       "      <td>NaN</td>\n",
       "    </tr>\n",
       "  </tbody>\n",
       "</table>\n",
       "</div>"
      ],
      "text/plain": [
       "   contract_id           event_date                            event_type  \\\n",
       "0        36294  2021-03-28 16:24:30     Добавление в Обращались с номеров   \n",
       "1        36294  2021-03-28 16:27:41  Обращение в службу заботы о клиентах   \n",
       "2        36294  2021-03-28 16:29:56                Выключение IPTV-пакета   \n",
       "\n",
       "   blocked  \n",
       "0      NaN  \n",
       "1      NaN  \n",
       "2      NaN  "
      ]
     },
     "execution_count": 39,
     "metadata": {},
     "output_type": "execute_result"
    }
   ],
   "source": [
    "test = pd.merge(df_log, test, how='left')\n",
    "test.head(3)"
   ]
  },
  {
   "cell_type": "code",
   "execution_count": 40,
   "metadata": {},
   "outputs": [],
   "source": [
    "#test.sort_values('contract_id', ascending=True)"
   ]
  },
  {
   "cell_type": "code",
   "execution_count": 41,
   "metadata": {},
   "outputs": [],
   "source": [
    "test = test.dropna()"
   ]
  },
  {
   "cell_type": "code",
   "execution_count": 42,
   "metadata": {},
   "outputs": [],
   "source": [
    "# Преобразование event_date to_datetime\n",
    "test['date'] = pd.to_datetime(test['event_date'])\n",
    "test = test.drop(columns= ['event_date'])\n",
    "test = test.drop(columns= ['date'])"
   ]
  },
  {
   "cell_type": "code",
   "execution_count": 43,
   "metadata": {},
   "outputs": [
    {
     "data": {
      "text/html": [
       "<div>\n",
       "<style scoped>\n",
       "    .dataframe tbody tr th:only-of-type {\n",
       "        vertical-align: middle;\n",
       "    }\n",
       "\n",
       "    .dataframe tbody tr th {\n",
       "        vertical-align: top;\n",
       "    }\n",
       "\n",
       "    .dataframe thead th {\n",
       "        text-align: right;\n",
       "    }\n",
       "</style>\n",
       "<table border=\"1\" class=\"dataframe\">\n",
       "  <thead>\n",
       "    <tr style=\"text-align: right;\">\n",
       "      <th></th>\n",
       "      <th>contract_id</th>\n",
       "      <th>event_type</th>\n",
       "      <th>blocked</th>\n",
       "      <th>bl</th>\n",
       "    </tr>\n",
       "  </thead>\n",
       "  <tbody>\n",
       "    <tr>\n",
       "      <th>0</th>\n",
       "      <td>3639</td>\n",
       "      <td>Активация гарантированного платежа</td>\n",
       "      <td>0.0</td>\n",
       "      <td>1.0</td>\n",
       "    </tr>\n",
       "    <tr>\n",
       "      <th>1</th>\n",
       "      <td>3639</td>\n",
       "      <td>Обращение в службу заботы о клиентах</td>\n",
       "      <td>0.0</td>\n",
       "      <td>1.0</td>\n",
       "    </tr>\n",
       "    <tr>\n",
       "      <th>2</th>\n",
       "      <td>3639</td>\n",
       "      <td>Реестр договоров</td>\n",
       "      <td>0.0</td>\n",
       "      <td>0.0</td>\n",
       "    </tr>\n",
       "    <tr>\n",
       "      <th>3</th>\n",
       "      <td>3571</td>\n",
       "      <td>Добавление в Обращались с номеров</td>\n",
       "      <td>0.0</td>\n",
       "      <td>1.0</td>\n",
       "    </tr>\n",
       "    <tr>\n",
       "      <th>4</th>\n",
       "      <td>3571</td>\n",
       "      <td>Обращение в службу заботы о клиентах</td>\n",
       "      <td>0.0</td>\n",
       "      <td>1.0</td>\n",
       "    </tr>\n",
       "  </tbody>\n",
       "</table>\n",
       "</div>"
      ],
      "text/plain": [
       "   contract_id                            event_type  blocked   bl\n",
       "0         3639    Активация гарантированного платежа      0.0  1.0\n",
       "1         3639  Обращение в службу заботы о клиентах      0.0  1.0\n",
       "2         3639                      Реестр договоров      0.0  0.0\n",
       "3         3571     Добавление в Обращались с номеров      0.0  1.0\n",
       "4         3571  Обращение в службу заботы о клиентах      0.0  1.0"
      ]
     },
     "execution_count": 43,
     "metadata": {},
     "output_type": "execute_result"
    }
   ],
   "source": [
    "test = pd.merge(test, df_event_type, how='left', left_on='event_type', right_on='event_type')\n",
    "test.head()"
   ]
  },
  {
   "cell_type": "code",
   "execution_count": 44,
   "metadata": {},
   "outputs": [
    {
     "data": {
      "text/plain": [
       "contract_id     0\n",
       "event_type      0\n",
       "blocked         0\n",
       "bl             57\n",
       "dtype: int64"
      ]
     },
     "execution_count": 44,
     "metadata": {},
     "output_type": "execute_result"
    }
   ],
   "source": [
    "test.isna().sum()"
   ]
  },
  {
   "cell_type": "code",
   "execution_count": 45,
   "metadata": {},
   "outputs": [],
   "source": [
    "test['bl'] = test['bl'].fillna(0)"
   ]
  },
  {
   "cell_type": "code",
   "execution_count": 46,
   "metadata": {},
   "outputs": [],
   "source": [
    "test = test.drop(columns= ['blocked'])"
   ]
  },
  {
   "cell_type": "code",
   "execution_count": 47,
   "metadata": {},
   "outputs": [
    {
     "name": "stdout",
     "output_type": "stream",
     "text": [
      "   contract_id                            event_type   bl\n",
      "0         3639    Активация гарантированного платежа  1.0\n",
      "1         3639  Обращение в службу заботы о клиентах  1.0\n",
      "2         3639                      Реестр договоров  0.0\n",
      "3         3571     Добавление в Обращались с номеров  1.0\n",
      "4         3571  Обращение в службу заботы о клиентах  1.0\n",
      "\n",
      " info()\n",
      "<class 'pandas.core.frame.DataFrame'>\n",
      "Int64Index: 3037 entries, 0 to 3036\n",
      "Data columns (total 3 columns):\n",
      " #   Column       Non-Null Count  Dtype  \n",
      "---  ------       --------------  -----  \n",
      " 0   contract_id  3037 non-null   int64  \n",
      " 1   event_type   3037 non-null   object \n",
      " 2   bl           3037 non-null   float64\n",
      "dtypes: float64(1), int64(1), object(1)\n",
      "memory usage: 94.9+ KB\n",
      "None\n",
      "\n",
      " describe()\n",
      "       contract_id           bl\n",
      "count  3037.000000  3037.000000\n",
      "mean   3845.250905     0.312479\n",
      "std     237.850494     0.463580\n",
      "min    3453.000000     0.000000\n",
      "25%    3628.000000     0.000000\n",
      "50%    3857.000000     0.000000\n",
      "75%    4048.000000     1.000000\n",
      "max    4262.000000     1.000000\n",
      "\n",
      " nunique()\n",
      "contract_id    502\n",
      "event_type      83\n",
      "bl               2\n",
      "dtype: int64\n"
     ]
    }
   ],
   "source": [
    "eda(test)"
   ]
  },
  {
   "cell_type": "code",
   "execution_count": null,
   "metadata": {},
   "outputs": [],
   "source": []
  },
  {
   "cell_type": "code",
   "execution_count": null,
   "metadata": {},
   "outputs": [],
   "source": []
  },
  {
   "cell_type": "markdown",
   "metadata": {},
   "source": [
    "## Построение модели "
   ]
  },
  {
   "cell_type": "code",
   "execution_count": 48,
   "metadata": {},
   "outputs": [
    {
     "name": "stdout",
     "output_type": "stream",
     "text": [
      "0    3523\n",
      "1    3523\n",
      "Name: blocked, dtype: int64\n"
     ]
    },
    {
     "data": {
      "text/plain": [
       "(2818, 705)"
      ]
     },
     "execution_count": 48,
     "metadata": {},
     "output_type": "execute_result"
    }
   ],
   "source": [
    "from sklearn.model_selection import train_test_split\n",
    "\n",
    "X = train.drop(columns= ['blocked'])\n",
    "y = train['blocked']\n",
    "\n",
    "x_train, x_val, y_train, y_val = train_test_split(X, y ,stratify= y, test_size=.2, random_state=8)\n",
    "print(train.blocked.value_counts())\n",
    "y_train.sum(), y_val.sum()"
   ]
  },
  {
   "cell_type": "code",
   "execution_count": null,
   "metadata": {},
   "outputs": [],
   "source": []
  },
  {
   "cell_type": "code",
   "execution_count": 49,
   "metadata": {},
   "outputs": [],
   "source": [
    "#Создание объекта данных Pool, плюсы: возможность указать какие признаки являются категориальными\n",
    "from catboost import CatBoostRegressor, CatBoostClassifier, Pool, cv\n",
    "from sklearn.metrics import r2_score\n",
    "pool_train = Pool(x_train, y_train, cat_features = ['event_type'])\n",
    "pool_val = Pool(x_val, cat_features = ['event_type'])"
   ]
  },
  {
   "cell_type": "code",
   "execution_count": 50,
   "metadata": {},
   "outputs": [
    {
     "data": {
      "application/vnd.jupyter.widget-view+json": {
       "model_id": "9a88806df5ac4779979677d02c96a7f5",
       "version_major": 2,
       "version_minor": 0
      },
      "text/plain": [
       "MetricVisualizer(layout=Layout(align_self='stretch', height='500px'))"
      ]
     },
     "metadata": {},
     "output_type": "display_data"
    },
    {
     "data": {
      "text/plain": [
       "<catboost.core.CatBoostRegressor at 0x1c2816b5610>"
      ]
     },
     "execution_count": 50,
     "metadata": {},
     "output_type": "execute_result"
    }
   ],
   "source": [
    "#Объявление CatBoostRegressor и обучение\n",
    "\n",
    "model = CatBoostRegressor(depth = 6, iterations = 1000)\n",
    "model.fit(pool_train,verbose=False, plot=True)"
   ]
  },
  {
   "cell_type": "code",
   "execution_count": 51,
   "metadata": {},
   "outputs": [],
   "source": [
    "#Получение ответов модели на тестовой выборке в локальном тестировании \n",
    "y_pred = model.predict(pool_val)"
   ]
  },
  {
   "cell_type": "code",
   "execution_count": 52,
   "metadata": {},
   "outputs": [
    {
     "name": "stdout",
     "output_type": "stream",
     "text": [
      "Значение метрики R2 на test:  0.9151312706914351\n"
     ]
    }
   ],
   "source": [
    "from sklearn.metrics import r2_score\n",
    "#На локальном тестировании модель выдаёт такой результат\n",
    "print(\"Значение метрики R2 на test: \", r2_score(y_val, y_pred))"
   ]
  },
  {
   "cell_type": "code",
   "execution_count": null,
   "metadata": {},
   "outputs": [],
   "source": []
  },
  {
   "cell_type": "code",
   "execution_count": 53,
   "metadata": {},
   "outputs": [],
   "source": [
    "#Получение ответов\n",
    "\n",
    "pool_test_solution = Pool(test, cat_features = ['event_type'])\n",
    "y_pred_solution = model.predict(pool_test_solution)\n",
    "#y_pred_solution"
   ]
  },
  {
   "cell_type": "code",
   "execution_count": 54,
   "metadata": {},
   "outputs": [
    {
     "data": {
      "text/plain": [
       "array([0.93702536, 1.01235211, 0.98351764, ..., 0.98290548, 1.00165383,\n",
       "       0.98290548])"
      ]
     },
     "execution_count": 54,
     "metadata": {},
     "output_type": "execute_result"
    }
   ],
   "source": [
    "y_pred_sol = y_pred_solution + 1\n",
    "y_pred_sol"
   ]
  },
  {
   "cell_type": "code",
   "execution_count": 55,
   "metadata": {},
   "outputs": [
    {
     "data": {
      "text/html": [
       "<div>\n",
       "<style scoped>\n",
       "    .dataframe tbody tr th:only-of-type {\n",
       "        vertical-align: middle;\n",
       "    }\n",
       "\n",
       "    .dataframe tbody tr th {\n",
       "        vertical-align: top;\n",
       "    }\n",
       "\n",
       "    .dataframe thead th {\n",
       "        text-align: right;\n",
       "    }\n",
       "</style>\n",
       "<table border=\"1\" class=\"dataframe\">\n",
       "  <thead>\n",
       "    <tr style=\"text-align: right;\">\n",
       "      <th></th>\n",
       "      <th>contract_id</th>\n",
       "      <th>event_type</th>\n",
       "      <th>bl</th>\n",
       "      <th>predict</th>\n",
       "    </tr>\n",
       "  </thead>\n",
       "  <tbody>\n",
       "    <tr>\n",
       "      <th>0</th>\n",
       "      <td>3639</td>\n",
       "      <td>Активация гарантированного платежа</td>\n",
       "      <td>1.0</td>\n",
       "      <td>0</td>\n",
       "    </tr>\n",
       "    <tr>\n",
       "      <th>1</th>\n",
       "      <td>3639</td>\n",
       "      <td>Обращение в службу заботы о клиентах</td>\n",
       "      <td>1.0</td>\n",
       "      <td>1</td>\n",
       "    </tr>\n",
       "    <tr>\n",
       "      <th>2</th>\n",
       "      <td>3639</td>\n",
       "      <td>Реестр договоров</td>\n",
       "      <td>0.0</td>\n",
       "      <td>0</td>\n",
       "    </tr>\n",
       "    <tr>\n",
       "      <th>3</th>\n",
       "      <td>3571</td>\n",
       "      <td>Добавление в Обращались с номеров</td>\n",
       "      <td>1.0</td>\n",
       "      <td>1</td>\n",
       "    </tr>\n",
       "    <tr>\n",
       "      <th>4</th>\n",
       "      <td>3571</td>\n",
       "      <td>Обращение в службу заботы о клиентах</td>\n",
       "      <td>1.0</td>\n",
       "      <td>1</td>\n",
       "    </tr>\n",
       "  </tbody>\n",
       "</table>\n",
       "</div>"
      ],
      "text/plain": [
       "   contract_id                            event_type   bl  predict\n",
       "0         3639    Активация гарантированного платежа  1.0        0\n",
       "1         3639  Обращение в службу заботы о клиентах  1.0        1\n",
       "2         3639                      Реестр договоров  0.0        0\n",
       "3         3571     Добавление в Обращались с номеров  1.0        1\n",
       "4         3571  Обращение в службу заботы о клиентах  1.0        1"
      ]
     },
     "execution_count": 55,
     "metadata": {},
     "output_type": "execute_result"
    }
   ],
   "source": [
    "test['predict'] = y_pred_sol.astype(int)\n",
    "test.head()"
   ]
  },
  {
   "cell_type": "code",
   "execution_count": null,
   "metadata": {},
   "outputs": [],
   "source": []
  },
  {
   "cell_type": "code",
   "execution_count": 56,
   "metadata": {},
   "outputs": [],
   "source": [
    "s_count = test.groupby('contract_id').count()\n",
    "#s_count"
   ]
  },
  {
   "cell_type": "code",
   "execution_count": 57,
   "metadata": {},
   "outputs": [],
   "source": [
    "s_sum = test.groupby('contract_id').sum()\n",
    "#s_sum"
   ]
  },
  {
   "cell_type": "code",
   "execution_count": 58,
   "metadata": {},
   "outputs": [],
   "source": [
    "#test.groupby(['contract_id','event_type']).sum().sort_values('predict', ascending=False)"
   ]
  },
  {
   "cell_type": "code",
   "execution_count": 59,
   "metadata": {},
   "outputs": [
    {
     "data": {
      "text/html": [
       "<div>\n",
       "<style scoped>\n",
       "    .dataframe tbody tr th:only-of-type {\n",
       "        vertical-align: middle;\n",
       "    }\n",
       "\n",
       "    .dataframe tbody tr th {\n",
       "        vertical-align: top;\n",
       "    }\n",
       "\n",
       "    .dataframe thead th {\n",
       "        text-align: right;\n",
       "    }\n",
       "</style>\n",
       "<table border=\"1\" class=\"dataframe\">\n",
       "  <thead>\n",
       "    <tr style=\"text-align: right;\">\n",
       "      <th></th>\n",
       "      <th>contract_id</th>\n",
       "      <th>blocked</th>\n",
       "    </tr>\n",
       "  </thead>\n",
       "  <tbody>\n",
       "    <tr>\n",
       "      <th>0</th>\n",
       "      <td>3453</td>\n",
       "      <td>0</td>\n",
       "    </tr>\n",
       "    <tr>\n",
       "      <th>1</th>\n",
       "      <td>3454</td>\n",
       "      <td>0</td>\n",
       "    </tr>\n",
       "    <tr>\n",
       "      <th>2</th>\n",
       "      <td>3455</td>\n",
       "      <td>0</td>\n",
       "    </tr>\n",
       "    <tr>\n",
       "      <th>3</th>\n",
       "      <td>3456</td>\n",
       "      <td>1</td>\n",
       "    </tr>\n",
       "    <tr>\n",
       "      <th>4</th>\n",
       "      <td>3457</td>\n",
       "      <td>0</td>\n",
       "    </tr>\n",
       "    <tr>\n",
       "      <th>...</th>\n",
       "      <td>...</td>\n",
       "      <td>...</td>\n",
       "    </tr>\n",
       "    <tr>\n",
       "      <th>805</th>\n",
       "      <td>4258</td>\n",
       "      <td>0</td>\n",
       "    </tr>\n",
       "    <tr>\n",
       "      <th>806</th>\n",
       "      <td>4259</td>\n",
       "      <td>0</td>\n",
       "    </tr>\n",
       "    <tr>\n",
       "      <th>807</th>\n",
       "      <td>4260</td>\n",
       "      <td>0</td>\n",
       "    </tr>\n",
       "    <tr>\n",
       "      <th>808</th>\n",
       "      <td>4261</td>\n",
       "      <td>1</td>\n",
       "    </tr>\n",
       "    <tr>\n",
       "      <th>809</th>\n",
       "      <td>4262</td>\n",
       "      <td>0</td>\n",
       "    </tr>\n",
       "  </tbody>\n",
       "</table>\n",
       "<p>810 rows × 2 columns</p>\n",
       "</div>"
      ],
      "text/plain": [
       "     contract_id  blocked\n",
       "0           3453        0\n",
       "1           3454        0\n",
       "2           3455        0\n",
       "3           3456        1\n",
       "4           3457        0\n",
       "..           ...      ...\n",
       "805         4258        0\n",
       "806         4259        0\n",
       "807         4260        0\n",
       "808         4261        1\n",
       "809         4262        0\n",
       "\n",
       "[810 rows x 2 columns]"
      ]
     },
     "execution_count": 59,
     "metadata": {},
     "output_type": "execute_result"
    }
   ],
   "source": [
    "result = df_sample_solution.copy()\n",
    "\n",
    "for idx,row in s_sum.iterrows():\n",
    "    #if s_count.loc[idx]['event'] > 2 : \n",
    "    #if s_sum.loc[idx]['predict'] > 0:  \n",
    "    if s_sum.loc[idx]['bl'] > 0 and s_sum.loc[idx]['predict'] > 0:   \n",
    "        bl = 1\n",
    "    else:\n",
    "        bl = 0\n",
    "    result.loc[result['contract_id'] == idx,'blocked'] = bl \n",
    "    \n",
    "result"
   ]
  },
  {
   "cell_type": "code",
   "execution_count": 60,
   "metadata": {},
   "outputs": [
    {
     "data": {
      "text/plain": [
       "'225'"
      ]
     },
     "execution_count": 60,
     "metadata": {},
     "output_type": "execute_result"
    }
   ],
   "source": [
    "res_str = str(result['blocked'].sum())\n",
    "res_str"
   ]
  },
  {
   "cell_type": "code",
   "execution_count": 61,
   "metadata": {},
   "outputs": [],
   "source": [
    "#Сохраняем в csv файл\n",
    " \n",
    "result.to_csv('220925_43 ' + res_str + ' submission.csv', index=None)\n",
    "result.to_csv('submission.csv', index=None)"
   ]
  }
 ],
 "metadata": {
  "colab": {
   "name": "Ситилинк_baseline.ipynb",
   "provenance": []
  },
  "kernelspec": {
   "display_name": "Python 3 (ipykernel)",
   "language": "python",
   "name": "python3"
  },
  "language_info": {
   "codemirror_mode": {
    "name": "ipython",
    "version": 3
   },
   "file_extension": ".py",
   "mimetype": "text/x-python",
   "name": "python",
   "nbconvert_exporter": "python",
   "pygments_lexer": "ipython3",
   "version": "3.9.12"
  }
 },
 "nbformat": 4,
 "nbformat_minor": 1
}
